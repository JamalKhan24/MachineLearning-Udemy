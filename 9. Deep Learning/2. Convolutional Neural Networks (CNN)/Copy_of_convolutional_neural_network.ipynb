{
  "cells": [
    {
      "cell_type": "markdown",
      "metadata": {
        "id": "3DR-eO17geWu"
      },
      "source": [
        "# Convolutional Neural Network\n",
        "\n",
        "---\n",
        "\n"
      ]
    },
    {
      "cell_type": "markdown",
      "metadata": {
        "id": "EMefrVPCg-60"
      },
      "source": [
        "### Importing the libraries"
      ]
    },
    {
      "cell_type": "code",
      "execution_count": 1,
      "metadata": {
        "id": "_rFykdLIOBex"
      },
      "outputs": [],
      "source": [
        "import tensorflow as tf\n",
        "from keras.preprocessing.image import ImageDataGenerator"
      ]
    },
    {
      "cell_type": "code",
      "execution_count": 2,
      "metadata": {
        "colab": {
          "base_uri": "https://localhost:8080/",
          "height": 35
        },
        "id": "FIleuCAjoFD8",
        "outputId": "9499e9eb-c894-43e1-ac31-2f00340cdc3c"
      },
      "outputs": [
        {
          "data": {
            "text/plain": [
              "'2.13.0'"
            ]
          },
          "execution_count": 2,
          "metadata": {},
          "output_type": "execute_result"
        }
      ],
      "source": [
        "tf.__version__"
      ]
    },
    {
      "cell_type": "markdown",
      "metadata": {
        "id": "oxQxCBWyoGPE"
      },
      "source": [
        "## Part 1 - Data Preprocessing"
      ]
    },
    {
      "cell_type": "code",
      "execution_count": null,
      "metadata": {},
      "outputs": [],
      "source": [
        "from google.colab import drive\n",
        "drive.mount('/content/drive')"
      ]
    },
    {
      "cell_type": "markdown",
      "metadata": {
        "id": "MvE-heJNo3GG"
      },
      "source": [
        "### Preprocessing the Training set\n",
        "Image augmentation to augment the variety of the images of dataset to avoid overfitting."
      ]
    },
    {
      "cell_type": "code",
      "execution_count": 3,
      "metadata": {
        "id": "6T91wqTnTFZB"
      },
      "outputs": [
        {
          "name": "stdout",
          "output_type": "stream",
          "text": [
            "Found 8000 images belonging to 2 classes.\n"
          ]
        }
      ],
      "source": [
        "train_datagen = ImageDataGenerator(\n",
        "    rescale = 1./255, # each pixel value is divided by 255 - Feature Scaling\n",
        "    shear_range = 0.2,\n",
        "    zoom_range = 0.2,\n",
        "    horizontal_flip = True)\n",
        "training_set = train_datagen.flow_from_directory(\n",
        "    # 'drive/MyDrive/dataset_cats_and_dogs/training_set',\n",
        "    'training_set',\n",
        "    target_size = (64, 64), # final size of images that will be fed to cnn\n",
        "    batch_size = 32, # how many images in each batch, classic default value is 32\n",
        "    class_mode = 'binary') # binary outcome - cats and dogs"
      ]
    },
    {
      "cell_type": "markdown",
      "metadata": {
        "id": "mrCMmGw9pHys"
      },
      "source": [
        "### Preprocessing the Test set"
      ]
    },
    {
      "cell_type": "code",
      "execution_count": 4,
      "metadata": {
        "id": "HeeIB8PLTF2H"
      },
      "outputs": [
        {
          "name": "stdout",
          "output_type": "stream",
          "text": [
            "Found 2000 images belonging to 2 classes.\n"
          ]
        }
      ],
      "source": [
        "test_datagen = ImageDataGenerator(rescale = 1./255)\n",
        "test_set = test_datagen.flow_from_directory(\n",
        "    # 'drive/MyDrive/dataset_cats_and_dogs/training_set',\n",
        "    'test_set',\n",
        "    target_size = (64, 64),\n",
        "    batch_size = 32,\n",
        "    class_mode = 'binary')"
      ]
    },
    {
      "cell_type": "markdown",
      "metadata": {
        "id": "af8O4l90gk7B"
      },
      "source": [
        "## Part 2 - Building the CNN"
      ]
    },
    {
      "cell_type": "markdown",
      "metadata": {
        "id": "ces1gXY2lmoX"
      },
      "source": [
        "### Initialising the CNN"
      ]
    },
    {
      "cell_type": "code",
      "execution_count": 5,
      "metadata": {
        "id": "HHui8FEeatzl"
      },
      "outputs": [],
      "source": [
        "cnn = tf.keras.models.Sequential()"
      ]
    },
    {
      "cell_type": "markdown",
      "metadata": {
        "id": "u5YJj_XMl5LF"
      },
      "source": [
        "### Step 1 - Convolution"
      ]
    },
    {
      "cell_type": "code",
      "execution_count": 6,
      "metadata": {
        "id": "ZyvSjDP-a4xK"
      },
      "outputs": [],
      "source": [
        "cnn.add(tf.keras.layers.Conv2D(\n",
        "    filters = 32, # number of feature/filter detectors\n",
        "    kernel_size = 3, # size of feature/filter detector, 3 means 3x3\n",
        "    activation = 'relu', # relu means rectifier activation function\n",
        "    input_shape = [64, 64, 3])) # 64, 64 we've seen in preprocessing and 3 means RGB and 1 for Black & White"
      ]
    },
    {
      "cell_type": "markdown",
      "metadata": {
        "id": "tf87FpvxmNOJ"
      },
      "source": [
        "### Step 2 - Pooling"
      ]
    },
    {
      "cell_type": "code",
      "execution_count": 7,
      "metadata": {
        "id": "g8P1HPb-cyHo"
      },
      "outputs": [],
      "source": [
        "cnn.add(tf.keras.layers.MaxPool2D(\n",
        "    pool_size = 2, # 2 means 2x2 size for each pool to get max value from each as in slides\n",
        "    strides = 2)) # as we are sliding 2x2 pool_size because we want to get the max value from each 2x2 pool"
      ]
    },
    {
      "cell_type": "markdown",
      "metadata": {
        "id": "xaTOgD8rm4mU"
      },
      "source": [
        "### Adding a second convolutional layer"
      ]
    },
    {
      "cell_type": "code",
      "execution_count": 8,
      "metadata": {
        "id": "La2l_axKc120"
      },
      "outputs": [],
      "source": [
        "cnn.add(tf.keras.layers.Conv2D(filters = 32, kernel_size = 3, activation = 'relu'))\n",
        "# no input size in 2nd layer because we have already specified in the first layer\n",
        "cnn.add(tf.keras.layers.MaxPool2D(pool_size = 2, strides = 2))"
      ]
    },
    {
      "cell_type": "markdown",
      "metadata": {
        "id": "tmiEuvTunKfk"
      },
      "source": [
        "### Step 3 - Flattening"
      ]
    },
    {
      "cell_type": "code",
      "execution_count": 9,
      "metadata": {
        "id": "F9DXc3RfeYo2"
      },
      "outputs": [],
      "source": [
        "cnn.add(tf.keras.layers.Flatten())"
      ]
    },
    {
      "cell_type": "markdown",
      "metadata": {
        "id": "dAoSECOm203v"
      },
      "source": [
        "### Step 4 - Full Connection"
      ]
    },
    {
      "cell_type": "code",
      "execution_count": 10,
      "metadata": {
        "id": "fWhgvKENemCJ"
      },
      "outputs": [],
      "source": [
        "cnn.add(tf.keras.layers.Dense(units = 128, activation = 'relu'))"
      ]
    },
    {
      "cell_type": "markdown",
      "metadata": {
        "id": "yTldFvbX28Na"
      },
      "source": [
        "### Step 5 - Output Layer"
      ]
    },
    {
      "cell_type": "code",
      "execution_count": 11,
      "metadata": {
        "id": "pKPk504lfBZk"
      },
      "outputs": [],
      "source": [
        "cnn.add(tf.keras.layers.Dense(units = 1, activation = 'sigmoid')) # 1 neuron is required for Binary Classification"
      ]
    },
    {
      "cell_type": "markdown",
      "metadata": {
        "id": "D6XkI90snSDl"
      },
      "source": [
        "## Part 3 - Training the CNN"
      ]
    },
    {
      "cell_type": "markdown",
      "metadata": {
        "id": "vfrFQACEnc6i"
      },
      "source": [
        "### Compiling the CNN"
      ]
    },
    {
      "cell_type": "code",
      "execution_count": 12,
      "metadata": {
        "id": "ie-RWdEDfVNN"
      },
      "outputs": [],
      "source": [
        "cnn.compile(optimizer = 'adam', loss = 'binary_crossentropy', metrics = ['accuracy'])"
      ]
    },
    {
      "cell_type": "markdown",
      "metadata": {
        "id": "ehS-v3MIpX2h"
      },
      "source": [
        "### Training the CNN on the Training set and evaluating it on the Test set"
      ]
    },
    {
      "cell_type": "code",
      "execution_count": 13,
      "metadata": {
        "id": "26dnVr6_fVpR"
      },
      "outputs": [
        {
          "name": "stdout",
          "output_type": "stream",
          "text": [
            "Epoch 1/25\n",
            "250/250 [==============================] - 181s 718ms/step - loss: 0.6855 - accuracy: 0.5510 - val_loss: 0.6522 - val_accuracy: 0.6185\n",
            "Epoch 2/25\n",
            "250/250 [==============================] - 66s 263ms/step - loss: 0.6304 - accuracy: 0.6460 - val_loss: 0.5903 - val_accuracy: 0.6965\n",
            "Epoch 3/25\n",
            "250/250 [==============================] - 96s 384ms/step - loss: 0.5720 - accuracy: 0.6998 - val_loss: 0.5300 - val_accuracy: 0.7395\n",
            "Epoch 4/25\n",
            "250/250 [==============================] - 91s 366ms/step - loss: 0.5311 - accuracy: 0.7274 - val_loss: 0.5556 - val_accuracy: 0.7160\n",
            "Epoch 5/25\n",
            "250/250 [==============================] - 89s 357ms/step - loss: 0.4997 - accuracy: 0.7560 - val_loss: 0.5092 - val_accuracy: 0.7555\n",
            "Epoch 6/25\n",
            "250/250 [==============================] - 89s 356ms/step - loss: 0.4814 - accuracy: 0.7635 - val_loss: 0.5487 - val_accuracy: 0.7260\n",
            "Epoch 7/25\n",
            "250/250 [==============================] - 126s 505ms/step - loss: 0.4548 - accuracy: 0.7845 - val_loss: 0.4769 - val_accuracy: 0.7770\n",
            "Epoch 8/25\n",
            "250/250 [==============================] - 85s 340ms/step - loss: 0.4408 - accuracy: 0.7920 - val_loss: 0.4740 - val_accuracy: 0.7690\n",
            "Epoch 9/25\n",
            "250/250 [==============================] - 98s 391ms/step - loss: 0.4234 - accuracy: 0.8034 - val_loss: 0.4514 - val_accuracy: 0.7865\n",
            "Epoch 10/25\n",
            "250/250 [==============================] - 89s 357ms/step - loss: 0.4036 - accuracy: 0.8120 - val_loss: 0.4497 - val_accuracy: 0.7865\n",
            "Epoch 11/25\n",
            "250/250 [==============================] - 78s 311ms/step - loss: 0.3926 - accuracy: 0.8220 - val_loss: 0.5174 - val_accuracy: 0.7705\n",
            "Epoch 12/25\n",
            "250/250 [==============================] - 82s 330ms/step - loss: 0.3777 - accuracy: 0.8282 - val_loss: 0.4550 - val_accuracy: 0.7905\n",
            "Epoch 13/25\n",
            "250/250 [==============================] - 80s 321ms/step - loss: 0.3601 - accuracy: 0.8393 - val_loss: 0.4364 - val_accuracy: 0.8125\n",
            "Epoch 14/25\n",
            "250/250 [==============================] - 81s 322ms/step - loss: 0.3443 - accuracy: 0.8453 - val_loss: 0.4599 - val_accuracy: 0.7995\n",
            "Epoch 15/25\n",
            "250/250 [==============================] - 74s 294ms/step - loss: 0.3299 - accuracy: 0.8549 - val_loss: 0.4737 - val_accuracy: 0.7880\n",
            "Epoch 16/25\n",
            "250/250 [==============================] - 77s 308ms/step - loss: 0.3146 - accuracy: 0.8612 - val_loss: 0.5108 - val_accuracy: 0.7820\n",
            "Epoch 17/25\n",
            "250/250 [==============================] - 76s 304ms/step - loss: 0.3068 - accuracy: 0.8676 - val_loss: 0.4855 - val_accuracy: 0.7850\n",
            "Epoch 18/25\n",
            "250/250 [==============================] - 77s 309ms/step - loss: 0.2841 - accuracy: 0.8790 - val_loss: 0.5000 - val_accuracy: 0.7975\n",
            "Epoch 19/25\n",
            "250/250 [==============================] - 61s 244ms/step - loss: 0.2752 - accuracy: 0.8850 - val_loss: 0.5209 - val_accuracy: 0.7910\n",
            "Epoch 20/25\n",
            "250/250 [==============================] - 54s 217ms/step - loss: 0.2567 - accuracy: 0.8914 - val_loss: 0.5129 - val_accuracy: 0.7980\n",
            "Epoch 21/25\n",
            "250/250 [==============================] - 54s 216ms/step - loss: 0.2474 - accuracy: 0.8931 - val_loss: 0.5248 - val_accuracy: 0.7955\n",
            "Epoch 22/25\n",
            "250/250 [==============================] - 54s 217ms/step - loss: 0.2427 - accuracy: 0.8961 - val_loss: 0.5127 - val_accuracy: 0.8090\n",
            "Epoch 23/25\n",
            "250/250 [==============================] - 54s 214ms/step - loss: 0.2183 - accuracy: 0.9101 - val_loss: 0.5229 - val_accuracy: 0.7930\n",
            "Epoch 24/25\n",
            "250/250 [==============================] - 54s 216ms/step - loss: 0.2073 - accuracy: 0.9125 - val_loss: 0.5957 - val_accuracy: 0.7800\n",
            "Epoch 25/25\n",
            "250/250 [==============================] - 59s 234ms/step - loss: 0.1980 - accuracy: 0.9183 - val_loss: 0.5346 - val_accuracy: 0.7960\n"
          ]
        },
        {
          "data": {
            "text/plain": [
              "<keras.src.callbacks.History at 0x2d3a6cb1f50>"
            ]
          },
          "execution_count": 13,
          "metadata": {},
          "output_type": "execute_result"
        }
      ],
      "source": [
        "cnn.fit(x = training_set, validation_data = test_set, epochs = 25)"
      ]
    },
    {
      "cell_type": "markdown",
      "metadata": {
        "id": "U3PZasO0006Z"
      },
      "source": [
        "## Part 4 - Making a single prediction"
      ]
    },
    {
      "cell_type": "code",
      "execution_count": 31,
      "metadata": {
        "id": "t5Zzv8EMiOQ9"
      },
      "outputs": [
        {
          "name": "stdout",
          "output_type": "stream",
          "text": [
            "1/1 [==============================] - 0s 31ms/step\n",
            "{'cats': 0, 'dogs': 1}\n"
          ]
        }
      ],
      "source": [
        "import numpy as np\n",
        "from keras.preprocessing import image\n",
        "test_image1 = image.load_img('single_prediction/cat_or_dog_1.jpg', target_size = (64, 64)) # same image size as before\n",
        "test_image1 = image.img_to_array(test_image1)\n",
        "test_image1 = np.expand_dims(test_image1, axis = 0) # dimension of the batch is always the first dimension\n",
        "result1 = cnn.predict(test_image1)\n",
        "print(training_set.class_indices)\n",
        "if result1[0][0] == 1:\n",
        "  prediction = 'dog'\n",
        "else:\n",
        "  prediction = 'cat'"
      ]
    },
    {
      "cell_type": "code",
      "execution_count": 32,
      "metadata": {
        "id": "dJGU9QAalw82"
      },
      "outputs": [
        {
          "name": "stdout",
          "output_type": "stream",
          "text": [
            "dog\n"
          ]
        }
      ],
      "source": [
        "print(prediction)"
      ]
    },
    {
      "cell_type": "code",
      "execution_count": 33,
      "metadata": {},
      "outputs": [
        {
          "name": "stdout",
          "output_type": "stream",
          "text": [
            "1/1 [==============================] - 0s 20ms/step\n",
            "{'cats': 0, 'dogs': 1}\n"
          ]
        }
      ],
      "source": [
        "test_image2 = image.load_img('single_prediction/cat_or_dog_2.jpg', target_size = (64, 64)) \n",
        "test_image2 = image.img_to_array(test_image2)\n",
        "test_image2 = np.expand_dims(test_image2, axis = 0) \n",
        "result2 = cnn.predict(test_image2)\n",
        "print(training_set.class_indices)\n",
        "if result2[0][0] == 0:\n",
        "  prediction = 'dog'\n",
        "else:\n",
        "  prediction = 'cat'"
      ]
    },
    {
      "cell_type": "code",
      "execution_count": 34,
      "metadata": {},
      "outputs": [
        {
          "name": "stdout",
          "output_type": "stream",
          "text": [
            "cat\n"
          ]
        }
      ],
      "source": [
        "print(prediction)"
      ]
    }
  ],
  "metadata": {
    "colab": {
      "provenance": []
    },
    "kernelspec": {
      "display_name": "Python 3",
      "name": "python3"
    },
    "language_info": {
      "codemirror_mode": {
        "name": "ipython",
        "version": 3
      },
      "file_extension": ".py",
      "mimetype": "text/x-python",
      "name": "python",
      "nbconvert_exporter": "python",
      "pygments_lexer": "ipython3",
      "version": "3.11.1"
    }
  },
  "nbformat": 4,
  "nbformat_minor": 0
}
