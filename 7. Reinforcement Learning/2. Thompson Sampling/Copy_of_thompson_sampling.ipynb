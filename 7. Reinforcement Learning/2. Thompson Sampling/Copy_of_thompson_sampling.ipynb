{
  "cells": [
    {
      "cell_type": "markdown",
      "metadata": {
        "id": "vPKTIRAtx232"
      },
      "source": [
        "# Thompson Sampling\n",
        "\n",
        "---\n",
        "\n"
      ]
    },
    {
      "cell_type": "markdown",
      "metadata": {
        "id": "PqPv9zpAx-EE"
      },
      "source": [
        "## Importing the libraries"
      ]
    },
    {
      "cell_type": "code",
      "execution_count": null,
      "metadata": {
        "id": "lozuE-Fhx_QB"
      },
      "outputs": [],
      "source": [
        "import numpy as np\n",
        "import matplotlib.pyplot as plt\n",
        "import pandas as pd"
      ]
    },
    {
      "cell_type": "markdown",
      "metadata": {
        "id": "iqpVk5HhyGmO"
      },
      "source": [
        "## Importing the dataset"
      ]
    },
    {
      "cell_type": "code",
      "execution_count": null,
      "metadata": {
        "id": "kY4zzW4hyNfA"
      },
      "outputs": [],
      "source": [
        "dataset = pd.read_csv('Ads_CTR_Optimisation.csv')"
      ]
    },
    {
      "cell_type": "markdown",
      "metadata": {
        "id": "WqoXeWOYyQhB"
      },
      "source": [
        "## Implementing Thompson Sampling"
      ]
    },
    {
      "cell_type": "code",
      "execution_count": null,
      "metadata": {
        "id": "_1Kr5JHR_hsx"
      },
      "outputs": [],
      "source": [
        "import random\n",
        "N = 10000 # number of users/rows/rounds\n",
        "d = 10 # number of ads\n",
        "ads_selected = [] # full list of ads selected over the rounds, will contain 10000 entries\n",
        "numbers_of_rewards_1 = [0] * 10 # each time an ads get rewarded 1\n",
        "numbers_of_rewards_0 = [0] * 10 # each time an ads get rewarded 0\n",
        "total_reward = 0\n",
        "for n in range(N):\n",
        "  ad = 0\n",
        "  max_random = 0\n",
        "  for i in range(d):\n",
        "    random_beta = random.betavariate(numbers_of_rewards_1[i] + 1, numbers_of_rewards_0[i] + 1)\n",
        "    if random_beta > max_random:\n",
        "      max_random = random_beta\n",
        "      ad = i\n",
        "  ads_selected.append(ad)\n",
        "  reward = dataset.values[n, ad]\n",
        "  if reward == 1:\n",
        "    numbers_of_rewards_1[ad] += 1\n",
        "  else:\n",
        "    numbers_of_rewards_0[ad] += 1\n",
        "  total_reward += reward"
      ]
    },
    {
      "cell_type": "code",
      "execution_count": null,
      "metadata": {
        "colab": {
          "base_uri": "https://localhost:8080/"
        },
        "id": "At-YFX8OA3md",
        "outputId": "d176f5f1-ad5b-48a7-f29c-08633fefb486"
      },
      "outputs": [
        {
          "name": "stdout",
          "output_type": "stream",
          "text": [
            "[1, 3, 5, 9, 6, 0, 4, 8, 9, 0, 5, 8, 6, 2, 7, 7, 4, 7, 7, 7, 0, 7, 7, 7, 0, 2, 3, 6, 0, 4, 7, 3, 1, 5, 9, 7, 5, 1, 4, 0, 0, 3, 7, 7, 7, 7, 6, 2, 7, 9, 5, 6, 2, 2, 7, 7, 7, 1, 4, 8, 7, 1, 1, 8, 4, 0, 7, 8, 4, 0, 7, 8, 2, 2, 6, 3, 0, 6, 7, 3, 7, 4, 7, 6, 6, 8, 9, 1, 7, 7, 4, 4, 6, 7, 7, 1, 7, 9, 3, 7, 4, 9, 7, 6, 3, 9, 5, 7, 7, 0, 7, 7, 3, 7, 5, 6, 7, 3, 0, 6, 3, 1, 9, 4, 1, 7, 7, 3, 2, 7, 4, 0, 3, 4, 4, 8, 7, 7, 1, 2, 7, 0, 7, 4, 4, 5, 0, 4, 0, 4, 2, 3, 1, 7, 7, 5, 6, 5, 8, 6, 7, 7, 4, 7, 7, 2, 4, 2, 1, 4, 4, 6, 1, 7, 7, 0, 6, 4, 7, 7, 6, 9, 1, 4, 0, 0, 4, 1, 0, 6, 7, 3, 7, 0, 3, 7, 2, 0, 4, 7, 1, 4, 4, 4, 4, 7, 6, 6, 0, 0, 0, 6, 8, 6, 1, 3, 4, 1, 5, 7, 6, 0, 3, 6, 6, 6, 6, 0, 6, 6, 1, 7, 4, 1, 4, 6, 6, 6, 0, 2, 6, 4, 4, 6, 4, 0, 7, 6, 6, 2, 4, 1, 1, 6, 6, 7, 0, 4, 3, 4, 5, 1, 3, 8, 4, 4, 4, 4, 4, 4, 4, 4, 4, 4, 4, 2, 3, 1, 5, 4, 6, 2, 4, 7, 4, 4, 7, 7, 0, 4, 2, 2, 2, 4, 2, 0, 2, 4, 6, 2, 9, 2, 1, 0, 7, 4, 4, 0, 4, 3, 4, 4, 5, 4, 0, 4, 4, 8, 8, 8, 2, 7, 7, 9, 8, 2, 4, 2, 4, 7, 4, 7, 4, 4, 5, 4, 4, 4, 4, 4, 4, 0, 0, 2, 8, 0, 0, 4, 4, 4, 4, 3, 2, 4, 4, 5, 7, 5, 7, 4, 4, 7, 2, 4, 4, 4, 4, 5, 4, 2, 4, 6, 7, 4, 4, 4, 3, 4, 4, 2, 8, 4, 2, 9, 7, 0, 4, 6, 7, 0, 4, 7, 2, 0, 4, 3, 4, 7, 0, 4, 4, 5, 4, 4, 2, 4, 4, 6, 4, 3, 6, 4, 9, 4, 1, 6, 7, 7, 4, 0, 4, 4, 4, 4, 3, 1, 4, 0, 1, 0, 4, 4, 4, 9, 0, 7, 7, 4, 7, 0, 7, 0, 0, 4, 7, 3, 0, 7, 4, 7, 4, 7, 7, 4, 0, 4, 0, 0, 0, 4, 0, 0, 0, 2, 0, 0, 1, 2, 4, 7, 4, 0, 4, 4, 7, 4, 0, 7, 0, 0, 4, 4, 7, 4, 2, 4, 0, 0, 0, 9, 5, 3, 0, 4, 5, 4, 2, 0, 4, 4]\n"
          ]
        }
      ],
      "source": [
        "print(ads_selected)"
      ]
    },
    {
      "cell_type": "code",
      "execution_count": null,
      "metadata": {
        "colab": {
          "base_uri": "https://localhost:8080/"
        },
        "id": "8kpPczAKA5L7",
        "outputId": "0b045e54-50da-4f39-80b7-24efe88138e7"
      },
      "outputs": [
        {
          "name": "stdout",
          "output_type": "stream",
          "text": [
            "[54, 27, 34, 25, 103, 20, 39, 75, 16, 15]\n"
          ]
        }
      ],
      "source": [
        "print(numbers_of_rewards_0)"
      ]
    },
    {
      "cell_type": "code",
      "execution_count": null,
      "metadata": {
        "colab": {
          "base_uri": "https://localhost:8080/"
        },
        "id": "Woh4GO_VA8jf",
        "outputId": "6f62c914-59fc-415a-81a9-4308663e7e72"
      },
      "outputs": [
        {
          "name": "stdout",
          "output_type": "stream",
          "text": [
            "[15, 3, 5, 4, 36, 1, 7, 19, 1, 1]\n"
          ]
        }
      ],
      "source": [
        "print(numbers_of_rewards_1)"
      ]
    },
    {
      "cell_type": "code",
      "execution_count": null,
      "metadata": {
        "colab": {
          "base_uri": "https://localhost:8080/"
        },
        "id": "qEwwCvZLD_dE",
        "outputId": "574b2b8f-0c2a-4361-e12b-602286e49b26"
      },
      "outputs": [
        {
          "name": "stdout",
          "output_type": "stream",
          "text": [
            "92\n"
          ]
        }
      ],
      "source": [
        "print(total_reward)"
      ]
    },
    {
      "cell_type": "markdown",
      "metadata": {
        "id": "tweWsgTHyXhv"
      },
      "source": [
        "## Visualising the results - Histogram"
      ]
    },
    {
      "cell_type": "code",
      "execution_count": null,
      "metadata": {
        "colab": {
          "base_uri": "https://localhost:8080/",
          "height": 472
        },
        "id": "k8DJmN06yak3",
        "outputId": "fb539f41-38b1-4586-b9b2-a970253e751e"
      },
      "outputs": [
        {
          "data": {
            "image/png": "[encoded data removed]",
            "text/plain": [
              "<Figure size 640x480 with 1 Axes>"
            ]
          },
          "metadata": {},
          "output_type": "display_data"
        }
      ],
      "source": [
        "plt.hist(ads_selected)\n",
        "plt.title('Histogram of ads selections')\n",
        "plt.xlabel('Ads')\n",
        "plt.ylabel('Number of times each ad was selected')\n",
        "plt.show()"
      ]
    }
  ],
  "metadata": {
    "colab": {
      "provenance": [],
      "toc_visible": true
    },
    "kernelspec": {
      "display_name": "Python 3",
      "name": "python3"
    }
  },
  "nbformat": 4,
  "nbformat_minor": 0
}
